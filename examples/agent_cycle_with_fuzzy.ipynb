{
 "cells": [
  {
   "cell_type": "markdown",
   "metadata": {},
   "source": [
    "# FlameMirror with fuzzy guidance"
   ]
  },
  {
   "cell_type": "code",
   "execution_count": null,
   "metadata": {},
   "outputs": [],
   "source": [
    "from argparse import Namespace\n",
    "from pathlib import Path\n",
    "\n",
    "from flamemirror.cli import create_agent\n",
    "\n",
    "workspace = Path('notebooks/fuzzy_workspace')\n",
    "args = Namespace(\n",
    "    workspace=workspace,\n",
    "    enable_ml=False,\n",
    "    enable_fuzzy=True,\n",
    "    no_dry_run=False,\n",
    "    pytest_args=('-k', 'notests'),\n",
    ")\n",
    "agent = create_agent(args)\n",
    "report = agent.run_cycle()\n",
    "report\n"
   ]
  }
 ],
 "metadata": {
  "kernelspec": {
   "display_name": "Python 3",
   "language": "python",
   "name": "python3"
  },
  "language_info": {
   "name": "python",
   "version": "3.11"
  }
 },
 "nbformat": 4,
 "nbformat_minor": 5
}
