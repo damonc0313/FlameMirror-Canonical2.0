{
  "nbformat": 4,
  "nbformat_minor": 5,
  "metadata": {},
  "cells": [
    {
      "id": "3dbac548",
      "cell_type": "markdown",
      "source": "# FlameMirror Demo\n\nThis notebook runs a single FlameMirror agent cycle using the built-in\ncomponents. The pytest runner is stubbed so the example does not need to\nexecute an actual test suite.",
      "metadata": {}
    },
    {
      "id": "47724d72",
      "cell_type": "code",
      "metadata": {},
      "execution_count": null,
      "source": "import tempfile\nfrom argparse import Namespace\nfrom pathlib import Path\n\nfrom flamemirror import cli\n\nworkspace = Path(tempfile.mkdtemp(prefix=\"flamemirror-demo-\"))\nargs = Namespace(\n    workspace=workspace,\n    enable_ml=False,\n    enable_fuzzy=False,\n    no_dry_run=False,\n    pytest_args=(\"-q\",),\n)\nagent = cli.create_agent(args)\nagent.testrunner.executor = lambda pytest_args: (0, \"simulated\", 0.93)\nreport = agent.run_cycle()\nprint(f\"Workspace: {workspace}\")\nprint(f\"Generated files: {[str(gen.target_path) for gen in report.generations]}\")\nprint(f\"Test coverage: {agent.metrics['coverage']:.2f}\")\nprint(f\"Failures: {report.failures}\")",
      "outputs": []
    }
  ]
}